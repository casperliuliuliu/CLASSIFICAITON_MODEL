{
 "cells": [
  {
   "cell_type": "code",
   "execution_count": null,
   "id": "97681f9c-7556-45a0-bfc4-3d0e550b8db4",
   "metadata": {},
   "outputs": [],
   "source": [
    "dataform ={\n",
    "    'he': 10,\n",
    "    'she': 10,\n",
    "    'her': 10,\n",
    "}"
   ]
  }
 ],
 "metadata": {
  "kernelspec": {
   "display_name": "GPU",
   "language": "python",
   "name": "gpu"
  },
  "language_info": {
   "codemirror_mode": {
    "name": "ipython",
    "version": 3
   },
   "file_extension": ".py",
   "mimetype": "text/x-python",
   "name": "python",
   "nbconvert_exporter": "python",
   "pygments_lexer": "ipython3",
   "version": "3.10.12"
  }
 },
 "nbformat": 4,
 "nbformat_minor": 5
}
