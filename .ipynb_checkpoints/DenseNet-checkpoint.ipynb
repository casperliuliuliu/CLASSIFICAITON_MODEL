{
 "cells": [
  {
   "cell_type": "code",
   "execution_count": 64,
   "id": "22b5690d-751e-46fd-8779-c7418e276f5b",
   "metadata": {},
   "outputs": [],
   "source": [
    "import torch\n",
    "import torch.nn as nn\n",
    "import torch.optim as optim\n",
    "from torch.optim import lr_scheduler\n",
    "import numpy as np\n",
    "import torchvision\n",
    "from torchvision import datasets, models, transforms\n",
    "import matplotlib.pyplot as plt\n",
    "import time\n",
    "import os\n",
    "import copy\n"
   ]
  },
  {
   "cell_type": "code",
   "execution_count": 65,
   "id": "f9d375c9-3009-4f71-8a6b-5532030d960f",
   "metadata": {},
   "outputs": [],
   "source": [
    "mean = np.array([0.5, 0.5, 0.5])\n",
    "std = np.array([0.25, 0.25, 0.25])\n",
    "\n",
    "data_transforms = {\n",
    "    'train': transforms.Compose([\n",
    "        transforms.Resize(256),\n",
    "        transforms.CenterCrop(224),\n",
    "        transforms.RandomHorizontalFlip(),\n",
    "        transforms.ToTensor(),\n",
    "        transforms.Normalize(mean, std)\n",
    "    ]),\n",
    "    'val': transforms.Compose([\n",
    "        transforms.Resize(256),\n",
    "        transforms.CenterCrop(224),\n",
    "        transforms.ToTensor(),\n",
    "        transforms.Normalize(mean, std)\n",
    "    ]),\n",
    "}"
   ]
  },
  {
   "cell_type": "code",
   "execution_count": 66,
   "id": "bc394c73-5385-44a9-859e-92e794c5717c",
   "metadata": {},
   "outputs": [
    {
     "name": "stdout",
     "output_type": "stream",
     "text": [
      "Number of training samples: 10171\n",
      "Number of validation samples: 2543\n"
     ]
    }
   ],
   "source": [
    "import os\n",
    "import random\n",
    "import torch\n",
    "from torchvision import datasets, transforms\n",
    "\n",
    "data_dir = \"D:/P2023/DATA/glomer_cg\"\n",
    "\n",
    "# Create a single merged dataset\n",
    "merged_dataset = datasets.ImageFolder(data_dir, data_transforms['train'])\n",
    "\n",
    "# Shuffle the merged dataset randomly\n",
    "random.seed(42)  # You can choose any random seed for reproducibility\n",
    "indices = list(range(len(merged_dataset)))\n",
    "random.shuffle(indices)\n",
    "\n",
    "# Define the split ratio (e.g., 80% for training and 20% for validation)\n",
    "split_ratio = 0.8  # You can adjust this ratio as needed\n",
    "\n",
    "# Calculate the split indices\n",
    "split_index = int(len(indices) * split_ratio)\n",
    "train_indices = indices[:split_index]\n",
    "val_indices = indices[split_index:]\n",
    "\n",
    "# Create data loaders for training and validation using the split indices\n",
    "train_sampler = torch.utils.data.SubsetRandomSampler(train_indices)\n",
    "val_sampler = torch.utils.data.SubsetRandomSampler(val_indices)\n",
    "\n",
    "train_loader = torch.utils.data.DataLoader(merged_dataset, batch_size=4, sampler=train_sampler, num_workers=0)\n",
    "val_loader = torch.utils.data.DataLoader(merged_dataset, batch_size=4, sampler=val_sampler, num_workers=0)\n",
    "\n",
    "# Example usage:\n",
    "print(f\"Number of training samples: {len(train_indices)}\")\n",
    "print(f\"Number of validation samples: {len(val_indices)}\")\n"
   ]
  },
  {
   "cell_type": "code",
   "execution_count": 68,
   "id": "82025fad-1df3-4ac9-b8cf-0c6574e7ace0",
   "metadata": {},
   "outputs": [],
   "source": [
    "\n",
    "image_datasets = {\n",
    "    \"train\": train_loader.dataset,\n",
    "    \"val\": val_loader.dataset\n",
    "}\n",
    "dataloaders = {\n",
    "    x: torch.utils.data.DataLoader(image_datasets[x], batch_size=4, shuffle=True, num_workers=0)\n",
    "    for x in ['train', 'val']\n",
    "}"
   ]
  },
  {
   "cell_type": "code",
   "execution_count": 69,
   "id": "441ace68-c932-4d6e-b452-8fd61c0026f8",
   "metadata": {},
   "outputs": [
    {
     "name": "stdout",
     "output_type": "stream",
     "text": [
      "{'train': Dataset ImageFolder\n",
      "    Number of datapoints: 12714\n",
      "    Root location: D:/P2023/DATA/glomer_cg\n",
      "    StandardTransform\n",
      "Transform: Compose(\n",
      "               Resize(size=256, interpolation=bilinear, max_size=None, antialias=warn)\n",
      "               CenterCrop(size=(224, 224))\n",
      "               RandomHorizontalFlip(p=0.5)\n",
      "               ToTensor()\n",
      "               Normalize(mean=[0.5 0.5 0.5], std=[0.25 0.25 0.25])\n",
      "           ), 'val': Dataset ImageFolder\n",
      "    Number of datapoints: 12714\n",
      "    Root location: D:/P2023/DATA/glomer_cg\n",
      "    StandardTransform\n",
      "Transform: Compose(\n",
      "               Resize(size=256, interpolation=bilinear, max_size=None, antialias=warn)\n",
      "               CenterCrop(size=(224, 224))\n",
      "               RandomHorizontalFlip(p=0.5)\n",
      "               ToTensor()\n",
      "               Normalize(mean=[0.5 0.5 0.5], std=[0.25 0.25 0.25])\n",
      "           )}\n"
     ]
    }
   ],
   "source": [
    "print(image_datasets)"
   ]
  },
  {
   "cell_type": "code",
   "execution_count": 70,
   "id": "aad5b58c-0e0a-4c9c-aac1-7241fdf3a01a",
   "metadata": {},
   "outputs": [
    {
     "name": "stdout",
     "output_type": "stream",
     "text": [
      "['IGA', 'MGN']\n",
      "cuda:0\n"
     ]
    }
   ],
   "source": [
    "dataset_sizes = {x: len(image_datasets[x]) for x in ['train', 'val']}\n",
    "class_names = image_datasets['train'].classes\n",
    "\n",
    "device = torch.device(\"cuda:0\" if torch.cuda.is_available() else \"cpu\")\n",
    "print(class_names)\n",
    "print(device)"
   ]
  },
  {
   "cell_type": "code",
   "execution_count": 71,
   "id": "23a6f963-35d0-49a8-b8cc-ebf26710e669",
   "metadata": {},
   "outputs": [],
   "source": [
    "def imshow(inp, title):\n",
    "    \"\"\"Imshow for Tensor.\"\"\"\n",
    "    inp = inp.numpy().transpose((1, 2, 0))\n",
    "    inp = std * inp + mean\n",
    "    inp = np.clip(inp, 0, 1)\n",
    "    plt.imshow(inp)\n",
    "    plt.title(title)\n",
    "    plt.show()\n",
    "\n",
    "\n",
    "# Get a batch of training data\n",
    "inputs, classes = next(iter(dataloaders['train']))\n",
    "\n",
    "# Make a grid from batch\n",
    "out = torchvision.utils.make_grid(inputs)\n",
    "\n",
    "# imshow(out, title=[class_names[x] for x in classes])"
   ]
  },
  {
   "cell_type": "code",
   "execution_count": 80,
   "id": "fba174c4-5b77-4ac7-aefc-1b60db1ed3a2",
   "metadata": {},
   "outputs": [
    {
     "name": "stdout",
     "output_type": "stream",
     "text": [
      "test\n"
     ]
    }
   ],
   "source": [
    "# complete\n",
    "from datetime import datetime\n",
    "log_path =\"D:/P2023/LOG/densenet121_50_n.txt\"\n",
    "# print and fprint at the same time\n",
    "def pprint(output = '\\n' , filename = log_path, show_time = False):\n",
    "    print(output)\n",
    "    with open(filename, 'a') as f:\n",
    "        if show_time:\n",
    "            f.write(datetime.now().strftime(\"[%Y-%m-%d %H:%M:%S] \"))\n",
    "\n",
    "        f.write(str(output))\n",
    "        f.write('\\n')\n",
    "pprint(\"test\", show_time=True)"
   ]
  },
  {
   "cell_type": "code",
   "execution_count": 86,
   "id": "c40a5739-a28f-4bb1-83a2-1d08a0cd6112",
   "metadata": {},
   "outputs": [],
   "source": [
    "def train_model(model, criterion, optimizer, scheduler, num_epochs=25):\n",
    "    since = time.time()\n",
    "\n",
    "    best_model_wts = copy.deepcopy(model.state_dict())\n",
    "    best_acc = 0.0\n",
    "    \n",
    "    best_recallmn = 0.0 # ***\n",
    "    best_recallig = 0.0 # ***\n",
    "    \n",
    "    best_precmn = 0.0 # ***\n",
    "    best_precig = 0.0 # ***\n",
    "    \n",
    "    best_f1mn = 0.0 # ***\n",
    "    best_f1ig = 0.0 # ***\n",
    "\n",
    "    for epoch in range(num_epochs):\n",
    "        pprint('Epoch {}/{}'.format(epoch, num_epochs - 1),show_time=True)\n",
    "        pprint('-' * 10)\n",
    "\n",
    "        # Each epoch has a training and validation phase\n",
    "        for phase in ['train', 'val']:\n",
    "            if phase == 'train':\n",
    "                model.train()  # Set model to training mode\n",
    "            else:\n",
    "                model.eval()   # Set model to evaluate mode\n",
    "\n",
    "            running_loss = 0.0\n",
    "            running_corrects = 0\n",
    "            \n",
    "            tp_positive = 0\n",
    "            fp_positive = 0\n",
    "            tn_negative = 0\n",
    "            fn_negative = 0\n",
    "            \n",
    "            # Iterate over data.\n",
    "            for inputs, labels in dataloaders[phase]:\n",
    "                inputs = inputs.to(device)\n",
    "                labels = labels.to(device)\n",
    "\n",
    "                # forward\n",
    "                # track history if only in train\n",
    "                with torch.set_grad_enabled(phase == 'train'):\n",
    "                    outputs = model(inputs)\n",
    "                    _, preds = torch.max(outputs, 1)\n",
    "                    loss = criterion(outputs, labels)\n",
    "\n",
    "\n",
    "                    # backward + optimize only if in training phase\n",
    "                    if phase == 'train':\n",
    "                        optimizer.zero_grad()\n",
    "                        loss.backward()\n",
    "                        optimizer.step()\n",
    "\n",
    "                # statistics\n",
    "                running_loss += loss.item() * inputs.size(0)\n",
    "                running_corrects += torch.sum(preds == labels.data)\n",
    "                \n",
    "                # MN -> positive\n",
    "                # iga -> negative\n",
    "                tp_positive += torch.sum((preds == 1) & (labels.data == 1))\n",
    "                fp_positive += torch.sum((preds == 1) & (labels.data == 0))\n",
    "                tn_negative += torch.sum((preds == 0) & (labels.data == 0))\n",
    "                fn_negative += torch.sum((preds == 0) & (labels.data == 1))\n",
    "                    \n",
    "            if phase == 'train':\n",
    "                scheduler.step()\n",
    "\n",
    "            epoch_loss = running_loss / dataset_sizes[phase]\n",
    "            epoch_acc = running_corrects.double() / dataset_sizes[phase]\n",
    "            \n",
    "            epoch_recallmn = tp_positive.double() / (tp_positive + fn_negative) # ***\n",
    "            epoch_recallig = tn_negative.double() / (tn_negative + fp_positive) # ***\n",
    "            \n",
    "            epoch_precmn = tp_positive.double() / (tp_positive + fp_positive) # ***\n",
    "            epoch_precig = tn_negative.double() / (tn_negative + fn_negative) # ***\n",
    "            \n",
    "            epoch_f1mn = (2 * epoch_recallmn * epoch_precmn) / (epoch_recallmn + epoch_precmn) # ***\n",
    "            epoch_f1ig = (2 * epoch_recallig * epoch_precig) / (epoch_recallig + epoch_precig) # ***\n",
    "            \n",
    "            # print('{} Loss: {:.4f} Acc: {:.4f} Recall_MGN: {:.4f} Recall_IGAN: {:.4f} Precision_MGN: {:.4f} Precision_IGAN: {:.4f} F1_MGN: {:.4f} F1_IGAN: {:.4f}'.format(\n",
    "            #     phase, epoch_loss, epoch_acc, epoch_recallmn, epoch_recallig, epoch_precmn, epoch_precig, epoch_f1mn, epoch_f1ig)) # ***\n",
    "            pprint('{} Loss: {:.4f} Accuracy: {:.4f} \\n     Recall Precision F1_score\\n MGN: {:.4f} {:.4f} {:.4f}\\n IGAN:{:.4f} {:.4f} {:.4f}\\n'.format(\n",
    "                    phase, epoch_loss, epoch_acc, epoch_recallmn, epoch_precmn, epoch_f1mn, epoch_recallig, epoch_precig, epoch_f1ig)) # ***\n",
    "\n",
    "            # deep copy the model\n",
    "            if phase == 'val' and epoch_acc > best_acc:\n",
    "                best_acc = epoch_acc\n",
    "                best_model_wts = copy.deepcopy(model.state_dict())\n",
    "                \n",
    "            if phase == 'val' and epoch_recallmn > best_recallmn: # ***\n",
    "                best_recallmn = epoch_recallmn\n",
    "            if phase == 'val' and epoch_recallig > best_recallig: # ***\n",
    "                best_recallig = epoch_recallig  \n",
    "                \n",
    "            if phase == 'val' and epoch_precmn > best_precmn: # ***\n",
    "                best_precmn = epoch_precmn\n",
    "            if phase == 'val' and epoch_precig > best_precig: # ***\n",
    "                best_precig = epoch_precig    \n",
    "                \n",
    "            if phase == 'val' and epoch_f1mn > best_f1mn: # ***\n",
    "                best_f1mn = epoch_f1mn\n",
    "            if phase == 'val' and epoch_f1ig > best_f1ig: # ***\n",
    "                best_f1ig = epoch_f1ig   \n",
    "                \n",
    "        pprint()\n",
    "\n",
    "    time_elapsed = time.time() - since\n",
    "    pprint('Training complete in {:.0f}m {:.0f}s'.format(\n",
    "        time_elapsed // 60, time_elapsed % 60))\n",
    "    pprint('Best val Acc: {:.4f} \\n     Recall Precision F1_score\\n MGN: {:.4f} {:.4f} {:.4f}\\n IGAN:{:.4f} {:.4f} {:.4f}\\n'.format(\n",
    "                best_acc, best_recallmn, best_precmn, best_f1mn, best_recallig, best_precig, best_f1ig)) # ***\n",
    "\n",
    "    # load best model weights\n",
    "    model.load_state_dict(best_model_wts)\n",
    "    return model"
   ]
  },
  {
   "cell_type": "code",
   "execution_count": 87,
   "id": "754630e2-ccc1-4374-9af4-6424acc62d04",
   "metadata": {},
   "outputs": [],
   "source": [
    "def train_mod(true_None, num_epoch):\n",
    "    model = models.densenet121(weights=true_None)\n",
    "    num_ftrs = model.classifier.in_features\n",
    "    model.classifier = nn.Linear(num_ftrs, 2)\n",
    "    model = model.to(device)\n",
    "    criterion = nn.CrossEntropyLoss()\n",
    "    optimizer = optim.SGD(model.parameters(), lr=0.001)\n",
    "    step_lr_scheduler = lr_scheduler.StepLR(optimizer, step_size=7, gamma=0.1)\n",
    "    model = train_model(model, criterion, optimizer, step_lr_scheduler, num_epochs=num_epoch)\n",
    "    return model"
   ]
  },
  {
   "cell_type": "code",
   "execution_count": null,
   "id": "b6f96d0f-3495-4c40-afe6-ecff78043f20",
   "metadata": {},
   "outputs": [
    {
     "name": "stdout",
     "output_type": "stream",
     "text": [
      "Epoch 0/4\n",
      "----------\n"
     ]
    }
   ],
   "source": [
    "# model = train_mod(None, 5)\n",
    "# torch.save(model.state_dict(), \"D:/P2023/WEIGHT/densenet121_5_n.pt\")"
   ]
  },
  {
   "cell_type": "code",
   "execution_count": null,
   "id": "aac270c3-7290-4c11-8b4a-2784de6a28ba",
   "metadata": {},
   "outputs": [],
   "source": [
    "# model = train_mod(None, 50)\n",
    "# torch.save(model.state_dict(), \"D:/P2023/WEIGHT/densenet121_50_n.pt\")"
   ]
  },
  {
   "cell_type": "code",
   "execution_count": null,
   "id": "dea98a38-31a0-4c7e-aa6b-11c99d511ae1",
   "metadata": {},
   "outputs": [],
   "source": [
    "# model = train_mod(True, 50)\n",
    "# torch.save(model.state_dict(), \"D:/P2023/WEIGHT/densenet121_50_t.pt\")"
   ]
  }
 ],
 "metadata": {
  "kernelspec": {
   "display_name": "Python 3 (ipykernel)",
   "language": "python",
   "name": "python3"
  },
  "language_info": {
   "codemirror_mode": {
    "name": "ipython",
    "version": 3
   },
   "file_extension": ".py",
   "mimetype": "text/x-python",
   "name": "python",
   "nbconvert_exporter": "python",
   "pygments_lexer": "ipython3",
   "version": "3.10.12"
  }
 },
 "nbformat": 4,
 "nbformat_minor": 5
}
