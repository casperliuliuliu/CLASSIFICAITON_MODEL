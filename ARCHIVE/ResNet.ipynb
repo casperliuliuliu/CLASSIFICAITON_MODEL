{
 "cells": [
  {
   "cell_type": "code",
   "execution_count": null,
   "id": "8b95bdfc-1604-4a92-b87e-a5a015fa3fc3",
   "metadata": {},
   "outputs": [],
   "source": []
  }
 ],
 "metadata": {
  "kernelspec": {
   "display_name": "GPU",
   "language": "python",
   "name": "gpu"
  },
  "language_info": {
   "codemirror_mode": {
    "name": "ipython",
    "version": 3
   },
   "file_extension": ".py",
   "mimetype": "text/x-python",
   "name": "python",
   "nbconvert_exporter": "python",
   "pygments_lexer": "ipython3",
   "version": "3.10.12"
  }
 },
 "nbformat": 4,
 "nbformat_minor": 5
}
