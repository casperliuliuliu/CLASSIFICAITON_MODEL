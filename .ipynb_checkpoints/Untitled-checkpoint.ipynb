{
 "cells": [
  {
   "cell_type": "code",
   "execution_count": 1,
   "id": "4fa8493e-9195-41e7-870f-c4772df369b7",
   "metadata": {},
   "outputs": [],
   "source": [
    "a = 1,2,3"
   ]
  },
  {
   "cell_type": "code",
   "execution_count": 8,
   "id": "7ec12e86-3bd3-41d3-8f47-916e8b787896",
   "metadata": {},
   "outputs": [
    {
     "ename": "SyntaxError",
     "evalue": "invalid syntax (687905321.py, line 1)",
     "output_type": "error",
     "traceback": [
      "\u001b[1;36m  Cell \u001b[1;32mIn[8], line 1\u001b[1;36m\u001b[0m\n\u001b[1;33m    ^a, b = 9, 10, 15, 20\u001b[0m\n\u001b[1;37m    ^\u001b[0m\n\u001b[1;31mSyntaxError\u001b[0m\u001b[1;31m:\u001b[0m invalid syntax\n"
     ]
    }
   ],
   "source": [
    "^a, b = 9, 10, 15, 20"
   ]
  },
  {
   "cell_type": "code",
   "execution_count": 12,
   "id": "9bd6993f-b5a8-492b-8a70-a1b581bee79d",
   "metadata": {},
   "outputs": [
    {
     "name": "stdout",
     "output_type": "stream",
     "text": [
      "(1, 2)\n",
      "(2, 4)\n",
      "(3, 6)\n",
      "(4, 8)\n",
      "{1: 2, 2: 4, 3: 6, 4: 8}\n"
     ]
    },
    {
     "data": {
      "text/plain": [
       "6"
      ]
     },
     "execution_count": 12,
     "metadata": {},
     "output_type": "execute_result"
    }
   ],
   "source": [
    "a = [1,2,3,4]\n",
    "b = [2,4,6,8]\n",
    "for i in zip(a,b):\n",
    "    print(i)\n",
    "dd = dict(zip(a,b))\n",
    "print(dd)\n",
    "dd[3]"
   ]
  },
  {
   "cell_type": "code",
   "execution_count": 29,
   "id": "5553083b-364d-4ceb-a614-e1251243ed56",
   "metadata": {},
   "outputs": [
    {
     "name": "stdout",
     "output_type": "stream",
     "text": [
      "10 20 hello\n"
     ]
    }
   ],
   "source": [
    "class A():\n",
    "    def __init__(self, val = 10):\n",
    "        self.a = val\n",
    "        self.b = 20\n",
    "    def print(self):\n",
    "        print(self.a, self.b, \"hello\")\n",
    "    def __call__(self,z):\n",
    "        print(self.a + self.b +z)\n",
    "    def __call__(self, z, x):\n",
    "        print('heelo')\n",
    "heeh = A()\n",
    "# heeh.a = 2999\n",
    "heeh.print()"
   ]
  },
  {
   "cell_type": "code",
   "execution_count": 30,
   "id": "94b7f68b-67a8-4f5c-91f3-d8403ef580e0",
   "metadata": {},
   "outputs": [
    {
     "ename": "TypeError",
     "evalue": "A.__call__() missing 1 required positional argument: 'x'",
     "output_type": "error",
     "traceback": [
      "\u001b[1;31m---------------------------------------------------------------------------\u001b[0m",
      "\u001b[1;31mTypeError\u001b[0m                                 Traceback (most recent call last)",
      "Cell \u001b[1;32mIn[30], line 1\u001b[0m\n\u001b[1;32m----> 1\u001b[0m \u001b[43mheeh\u001b[49m\u001b[43m(\u001b[49m\u001b[38;5;241;43m1\u001b[39;49m\u001b[43m)\u001b[49m\n",
      "\u001b[1;31mTypeError\u001b[0m: A.__call__() missing 1 required positional argument: 'x'"
     ]
    }
   ],
   "source": [
    "heeh(1)"
   ]
  },
  {
   "cell_type": "code",
   "execution_count": null,
   "id": "e0f9b276-4fdb-485e-8a83-9f9ad6570e84",
   "metadata": {},
   "outputs": [],
   "source": []
  }
 ],
 "metadata": {
  "kernelspec": {
   "display_name": "GPU",
   "language": "python",
   "name": "gpu"
  },
  "language_info": {
   "codemirror_mode": {
    "name": "ipython",
    "version": 3
   },
   "file_extension": ".py",
   "mimetype": "text/x-python",
   "name": "python",
   "nbconvert_exporter": "python",
   "pygments_lexer": "ipython3",
   "version": "3.10.12"
  }
 },
 "nbformat": 4,
 "nbformat_minor": 5
}
